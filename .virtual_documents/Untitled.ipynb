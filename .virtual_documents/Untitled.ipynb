import feedparser
import pandas as pd

# Các RSS nguồn
rss_urls = [
    "https://thanhnien.vn/rss/home.rss",
    "https://tuoitre.vn/rss/tin-moi-nhat.rss",
    "https://vnexpress.net/rss/tin-moi-nhat.rss",
]

articles = []

# Đọc RSS và thu thập bài viết
for url in rss_urls:
    feed = feedparser.parse(url)
    # Thay đổi ở dòng này: Bỏ đi [:1000] để lấy tất cả bài viết
    for entry in feed.entries:
        articles.append({
            "source": url,
            "title": entry.title,
            "link": entry.link,
            "published": entry.get("published", ""),
            "summary": entry.get("summary", "")
        })

# Lưu ra file CSV
df = pd.DataFrame(articles)
df.to_csv("sample_rss_articles.csv", index=False, encoding='utf-8-sig')

# Cập nhật câu lệnh print để hiển thị đúng số lượng bài đã lấy
print(f"Đã lưu thành công {len(articles)} bài viết vào sample_rss_articles.csv")



